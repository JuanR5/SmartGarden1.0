{
 "cells": [
  {
   "cell_type": "code",
   "execution_count": 3,
   "metadata": {},
   "outputs": [
    {
     "name": "stdout",
     "output_type": "stream",
     "text": [
      "Hello, this is an attemp to start using github and VSCode\n"
     ]
    }
   ],
   "source": [
    "### Just testing this\n",
    "print(\"Hello, this is an attemp to start using github and VSCode\")"
   ]
  },
  {
   "attachments": {},
   "cell_type": "markdown",
   "metadata": {},
   "source": [
    "### COMMANDS\n",
    "In here i will add the code commands  to write down in the terminal what they are for\n",
    "\n",
    "First open where do you want to add a repository with ***cd*** command \n",
    "*Ex*: PS D:\\JP> cd JP\n",
    "PS D:\\JP\\JP> cd Programing Code\\Visual studio CODE\\git\\proyect1\n",
    "\n",
    "Use ***git init*** to initialize a git repository\n",
    "Then add a file in which you will be working, to the folder\n",
    "\n",
    "Use ***git status*** to determine which file git manages\n",
    "\n",
    "***git add + filename*** to add files to git directory\n",
    "\n",
    "***git config user.email + email***  When Author identity unknown is asked\n",
    "\n",
    "***git commit -m + commitname*** To create a commit. Commitname should be something related to what the commit contains\n",
    "\n",
    "***git checkout -b mybranchname*** This command will automatically create a new branch and then 'check you out' on it, meaning git will move you to that branch, off of the primary branch\n",
    "\n",
    "Use ***git branch*** command to confirm that your branch was created\n"
   ]
  },
  {
   "attachments": {},
   "cell_type": "markdown",
   "metadata": {},
   "source": [
    "### Definitions\n",
    "A **commit** is a record of what changes you have made since the last time you made a commit. Essentially, you make changes to your repo (for example, adding a file or modifying one) and then tell git to put those changes into a commit.\n",
    "\n",
    "Once you've used the git add command to add all the files you want to the staging environment, you can then tell git to package them into a commit using the git commit command.\n",
    "\n",
    "A branch in Git is simply a lightweight movable pointer to one of these commits. When you are done you can merge your changes from your branch into the primary branch"
   ]
  },
  {
   "cell_type": "code",
   "execution_count": 1,
   "metadata": {},
   "outputs": [
    {
     "name": "stderr",
     "output_type": "stream",
     "text": [
      "2023-09-10 11:10:52.480650: I tensorflow/tsl/cuda/cudart_stub.cc:28] Could not find cuda drivers on your machine, GPU will not be used.\n",
      "2023-09-10 11:10:52.521776: I tensorflow/tsl/cuda/cudart_stub.cc:28] Could not find cuda drivers on your machine, GPU will not be used.\n",
      "2023-09-10 11:10:52.522434: I tensorflow/core/platform/cpu_feature_guard.cc:182] This TensorFlow binary is optimized to use available CPU instructions in performance-critical operations.\n",
      "To enable the following instructions: AVX2 FMA, in other operations, rebuild TensorFlow with the appropriate compiler flags.\n",
      "2023-09-10 11:10:54.195895: W tensorflow/compiler/tf2tensorrt/utils/py_utils.cc:38] TF-TRT Warning: Could not find TensorRT\n"
     ]
    },
    {
     "name": "stdout",
     "output_type": "stream",
     "text": [
      "Using TensorFlow version 2.13.0\n"
     ]
    }
   ],
   "source": [
    "import tensorflow as tf\n",
    "print('Using TensorFlow version', tf.__version__)"
   ]
  }
 ],
 "metadata": {
  "kernelspec": {
   "display_name": "Python 3",
   "language": "python",
   "name": "python3"
  },
  "language_info": {
   "codemirror_mode": {
    "name": "ipython",
    "version": 3
   },
   "file_extension": ".py",
   "mimetype": "text/x-python",
   "name": "python",
   "nbconvert_exporter": "python",
   "pygments_lexer": "ipython3",
   "version": "3.8.10"
  },
  "orig_nbformat": 4,
  "vscode": {
   "interpreter": {
    "hash": "47af1efbb35e9b1b11326fd92af5838f2f2458687f175d25650c3cd3406f4f2d"
   }
  }
 },
 "nbformat": 4,
 "nbformat_minor": 2
}
